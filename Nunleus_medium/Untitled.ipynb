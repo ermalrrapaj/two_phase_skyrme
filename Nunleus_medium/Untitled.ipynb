{
 "cells": [
  {
   "cell_type": "code",
   "execution_count": 3,
   "metadata": {
    "collapsed": false
   },
   "outputs": [],
   "source": [
    "import matplotlib.pylab as plt\n",
    "import numpy as np\n",
    "import mpmath as mp"
   ]
  },
  {
   "cell_type": "code",
   "execution_count": 61,
   "metadata": {
    "collapsed": false
   },
   "outputs": [],
   "source": [
    "xt = np.arange(0,20,0.1)\n",
    "R =5.0\n",
    "a =0.2\n",
    "x = np.array([0,R,20])\n",
    "y = np.array([10,10,1])\n",
    "def rho(a,R,r):\n",
    "    term1 = 10/(1+mp.exp((r-R)/a))\n",
    "    term2 = 1/(1+mp.exp(-(r-R)/a))\n",
    "    return (term1 + term2)\n",
    "yt = [rho(a,R,x) for x in xt]\n",
    "plt.clf()\n",
    "plt.plot(xt,yt,'r--',linewidth=4)\n",
    "plt.axvline(R-4*a,color='k',linewidth=1,linestyle='--')\n",
    "plt.axvline(R+4*a,color='k',linewidth=1,linestyle='--')\n",
    "plt.step(x,y)\n",
    "plt.gca().xaxis.set_major_locator(plt.NullLocator())\n",
    "plt.gca().yaxis.set_major_locator(plt.NullLocator())\n",
    "plt.xlabel(r\"$\\mathbf{r}$\", fontsize = 30)\n",
    "plt.ylabel(r\"$\\mathbf{\\rho}$\", fontsize = 30)\n",
    "plt.title(\"Wigner seitz cell density profile\",fontsize = 20)\n",
    "plt.axis([0, 15, 0, 12])\n",
    "plt.text(2, 10.5, r\"$\\mathbf{\\rho^H}$\", fontsize=20)\n",
    "plt.text(12, 1.5, r\"$\\mathbf{\\rho^L}$\", fontsize=20)\n",
    "plt.savefig(\"WSCprofile.pdf\")\n",
    "plt.show()"
   ]
  },
  {
   "cell_type": "code",
   "execution_count": null,
   "metadata": {
    "collapsed": true
   },
   "outputs": [],
   "source": []
  }
 ],
 "metadata": {
  "kernelspec": {
   "display_name": "Python 3",
   "language": "python",
   "name": "python3"
  },
  "language_info": {
   "codemirror_mode": {
    "name": "ipython",
    "version": 3
   },
   "file_extension": ".py",
   "mimetype": "text/x-python",
   "name": "python",
   "nbconvert_exporter": "python",
   "pygments_lexer": "ipython3",
   "version": "3.4.3"
  }
 },
 "nbformat": 4,
 "nbformat_minor": 0
}
